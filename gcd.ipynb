{
 "cells": [
  {
   "cell_type": "code",
   "execution_count": 23,
   "id": "d28fc619",
   "metadata": {},
   "outputs": [
    {
     "name": "stdout",
     "output_type": "stream",
     "text": [
      "Enter the firt number:25\n",
      "Enter the second number:20\n",
      "GCD of 25.0 and 20.0 is 5.0\n"
     ]
    }
   ],
   "source": [
    "#gcd of two numbers\n",
    "x=float(input(\"Enter the firt number:\"))\n",
    "y=float(input(\"Enter the second number:\"))\n",
    "if(x<y):\n",
    "    c=x\n",
    "else:\n",
    "    c=y\n",
    "while(c>0):\n",
    "    if(x%c==0)and(y%c==0):\n",
    "        print(\"GCD of\",x,\"and\",y,\"is\",c)\n",
    "        break\n",
    "    c=c-1\n"
   ]
  },
  {
   "cell_type": "code",
   "execution_count": null,
   "id": "a81e8b2d",
   "metadata": {},
   "outputs": [],
   "source": []
  }
 ],
 "metadata": {
  "kernelspec": {
   "display_name": "Python 3 (ipykernel)",
   "language": "python",
   "name": "python3"
  },
  "language_info": {
   "codemirror_mode": {
    "name": "ipython",
    "version": 3
   },
   "file_extension": ".py",
   "mimetype": "text/x-python",
   "name": "python",
   "nbconvert_exporter": "python",
   "pygments_lexer": "ipython3",
   "version": "3.7.11"
  }
 },
 "nbformat": 4,
 "nbformat_minor": 5
}
