{
 "cells": [
  {
   "cell_type": "code",
   "execution_count": null,
   "id": "4d898a94",
   "metadata": {},
   "outputs": [
    {
     "name": "stdout",
     "output_type": "stream",
     "text": [
      "Enter hour1:4\n",
      "enter minute1:56\n",
      "enter second1: 45\n",
      "Enter hour2: 3\n"
     ]
    }
   ],
   "source": [
    "#76. Create a class Time with private attributes hour, minute and second. Overload ‘+’ operator to find sum\n",
    "#5of 2 time.\n",
    "class time:\n",
    "    def __init__(self,hr,mint,sec):\n",
    "        self.__h=hr\n",
    "        self.__m=mint\n",
    "        self.__s=sec\n",
    "    def __add__(self,other):\n",
    "        hh=self.__h+other.__h\n",
    "        ss=self.__s+other.__s\n",
    "        mm=self.__m+other.__m\n",
    "        if(ss>=60):\n",
    "            m=int(ss/60)\n",
    "            ss=ss%60\n",
    "            mm+=m\n",
    "        if(mm>=60):\n",
    "            h=int(mm/60)\n",
    "            mm=mm%60\n",
    "            hh+=h\n",
    "            print(\"Added time..\\n Hour:\",hh, \"\\n Minute:\", mm,\"\\n Second:\",ss)\n",
    " \n",
    "h1=int(input(\"Enter hour1:\"))\n",
    "m1=int(input(\"enter minute1:\"))\n",
    "s1=int(input(\"enter second1: \"))\n",
    "h2=int(input(\"Enter hour2: \"))\n",
    "m2=int(input(\"enter minute2: \"))\n",
    "s2=int(input(\"enter second2: \"))\n",
    "t1=time(h1,m1,s1)\n",
    "t2=time(h2,m2,s2)\n",
    "t1+t2\n"
   ]
  },
  {
   "cell_type": "code",
   "execution_count": null,
   "id": "e4aed06e",
   "metadata": {},
   "outputs": [],
   "source": []
  }
 ],
 "metadata": {
  "kernelspec": {
   "display_name": "Python 3 (ipykernel)",
   "language": "python",
   "name": "python3"
  },
  "language_info": {
   "codemirror_mode": {
    "name": "ipython",
    "version": 3
   },
   "file_extension": ".py",
   "mimetype": "text/x-python",
   "name": "python",
   "nbconvert_exporter": "python",
   "pygments_lexer": "ipython3",
   "version": "3.7.11"
  }
 },
 "nbformat": 4,
 "nbformat_minor": 5
}
