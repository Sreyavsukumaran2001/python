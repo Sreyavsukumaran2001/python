{
 "cells": [
  {
   "cell_type": "code",
   "execution_count": 7,
   "id": "d9a44055",
   "metadata": {},
   "outputs": [
    {
     "name": "stdout",
     "output_type": "stream",
     "text": [
      "Enter the length of Rectangle1:12\n",
      "Enter the breadth of Rectangle1:15\n",
      "Enter the length of Rectangle2:23\n",
      "Enter the breadth of Rectangle2:12\n",
      "Area of rectangle1: 180\n",
      "Area of rectangle2: 276\n",
      "Perimeter of rectangle1: 54\n",
      "Perimeter of rectangle2: 70\n",
      "Rectangle 2 is greater\n"
     ]
    }
   ],
   "source": [
    "#72. Create Rectangle class with attributes length and breadth and methods to find area and perimeter. Compare two Rectangle objects by their area.\n",
    "class rectangle():\n",
    "    def get(self,l,b):\n",
    "        self.l=l\n",
    "        self.b=b\n",
    "    def area(self,l,b):\n",
    "        return l*b\n",
    "    def perimeter(self,l,b):\n",
    "        return 2*(l+b)\n",
    "r1=rectangle()\n",
    "r2=rectangle()\n",
    "l1=int(input(\"Enter the length of Rectangle1:\"))\n",
    "b1=int(input(\"Enter the breadth of Rectangle1:\"))\n",
    "l2=int(input(\"Enter the length of Rectangle2:\"))\n",
    "b2=int(input(\"Enter the breadth of Rectangle2:\"))\n",
    "p=r1.area(l1,b1)\n",
    "q=r2.area(l2,b2)\n",
    "s=r1.perimeter(l1,b1)\n",
    "h=r2.perimeter(l2,b2)\n",
    "print(\"Area of rectangle1:\",p)\n",
    "print(\"Area of rectangle2:\",q)\n",
    "print(\"Perimeter of rectangle1:\",s)\n",
    "print(\"Perimeter of rectangle2:\",h)\n",
    "if(p>q):\n",
    "    print(\"Rectangle 1 is greater\")\n",
    "elif(p<q):\n",
    "    print(\"Rectangle 2 is greater\")\n",
    "else:\n",
    "    print(\"Rectangles are equal\")\n"
   ]
  },
  {
   "cell_type": "code",
   "execution_count": null,
   "id": "1d95a348",
   "metadata": {},
   "outputs": [],
   "source": []
  }
 ],
 "metadata": {
  "kernelspec": {
   "display_name": "Python 3 (ipykernel)",
   "language": "python",
   "name": "python3"
  },
  "language_info": {
   "codemirror_mode": {
    "name": "ipython",
    "version": 3
   },
   "file_extension": ".py",
   "mimetype": "text/x-python",
   "name": "python",
   "nbconvert_exporter": "python",
   "pygments_lexer": "ipython3",
   "version": "3.7.11"
  }
 },
 "nbformat": 4,
 "nbformat_minor": 5
}
