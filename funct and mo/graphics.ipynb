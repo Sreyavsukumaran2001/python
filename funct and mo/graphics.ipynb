{
 "cells": [
  {
   "cell_type": "code",
   "execution_count": 1,
   "id": "739b0277",
   "metadata": {},
   "outputs": [
    {
     "name": "stdout",
     "output_type": "stream",
     "text": [
      "1.Rectangle\n",
      "2. Circle\n",
      "3cuboid\n",
      "4.sphere\n",
      "5.Exit\n",
      "Enter your choice: 1\n",
      "Enter length:1\n",
      "Enter the breadth:5\n",
      "Area of rectangle: 5\n",
      "Perimeter of rectangle: 12\n",
      "1.Rectangle\n",
      "2. Circle\n",
      "3cuboid\n",
      "4.sphere\n",
      "5.Exit\n",
      "Enter your choice: 2\n",
      "Enter radius: 3\n",
      "Area of circle: 28.259999999999998\n",
      "Perimeter of circle: 18.84\n",
      "1.Rectangle\n",
      "2. Circle\n",
      "3cuboid\n",
      "4.sphere\n",
      "5.Exit\n",
      "Enter your choice: 3\n",
      "Enter length: 4\n",
      "Enter breadth: 1\n",
      "Enter height: 2\n",
      "Area of cuboid: 28\n",
      "perimeter of cuboid: 28\n",
      "1.Rectangle\n",
      "2. Circle\n",
      "3cuboid\n",
      "4.sphere\n",
      "5.Exit\n",
      "Enter your choice: 5\n",
      "Exiting...\n"
     ]
    }
   ],
   "source": [
    "from graphics import rectangle\n",
    "from graphics import circle\n",
    "from graphics.graphics3d import cuboid\n",
    "from graphics.graphics3d import sphere\n",
    "while(1):\n",
    "    print(\"1.Rectangle\\n2. Circle\\n3cuboid\\n4.sphere\\n5.Exit\")\n",
    "    ch=int(input(\"Enter your choice: \"))\n",
    "    if ch==1:\n",
    "        l=int(input(\"Enter length:\"))\n",
    "        b=int(input(\"Enter the breadth:\"))\n",
    "        rectangle.rectarea(l,b)\n",
    "        rectangle.rectperi(l,b)\n",
    "    elif ch==2:\n",
    "        r=int(input(\"Enter radius: \"))\n",
    "        circle.circlearea(r)\n",
    "        circle.circleperi(r)          \n",
    "    elif ch==3:\n",
    "        l = int(input(\"Enter length: \"))\n",
    "        b = int(input(\"Enter breadth: \"))\n",
    "        h= int(input(\"Enter height: \"))\n",
    "        cuboid.cuboidarea(l,b,h)\n",
    "        cuboid.cuboidperi(l,b,h)\n",
    "    elif ch==4:\n",
    "        r=int(input(\"Enter radius: \"))\n",
    "        sphere.spherearea(r)\n",
    "        sphere.sphereperi(r)\n",
    "    else:\n",
    "        print(\"Exiting...\")\n",
    "        break\n",
    "        \n"
   ]
  },
  {
   "cell_type": "code",
   "execution_count": null,
   "id": "eb3ac48d",
   "metadata": {},
   "outputs": [],
   "source": []
  }
 ],
 "metadata": {
  "kernelspec": {
   "display_name": "Python 3 (ipykernel)",
   "language": "python",
   "name": "python3"
  },
  "language_info": {
   "codemirror_mode": {
    "name": "ipython",
    "version": 3
   },
   "file_extension": ".py",
   "mimetype": "text/x-python",
   "name": "python",
   "nbconvert_exporter": "python",
   "pygments_lexer": "ipython3",
   "version": "3.7.11"
  }
 },
 "nbformat": 4,
 "nbformat_minor": 5
}
