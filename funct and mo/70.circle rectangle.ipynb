{
 "cells": [
  {
   "cell_type": "code",
   "execution_count": null,
   "id": "bd76dd09",
   "metadata": {},
   "outputs": [
    {
     "name": "stdout",
     "output_type": "stream",
     "text": [
      "1.Rectangle\n",
      "2.Circle\n",
      "3.Exit\n",
      "Enter your choice:1\n",
      "Enter the length:5\n",
      "Enter the breadth:3\n",
      "Area of the rectangle: 15\n",
      "Perimeter of the rectangle: 16\n",
      "1.Rectangle\n",
      "2.Circle\n",
      "3.Exit\n",
      "Enter your choice:2\n",
      "Enter the radius:4\n",
      "Area of circle: 50.24\n",
      "Perimeter of circle: 25.12\n",
      "1.Rectangle\n",
      "2.Circle\n",
      "3.Exit\n"
     ]
    }
   ],
   "source": [
    "#70. Create modules Rectangle, Circle. Include methods to find area and perimeter\n",
    "import rectangle\n",
    "import circ\n",
    "while(1):\n",
    "    print(\"1.Rectangle\\n2.Circle\\n3.Exit\")\n",
    "    ch=int(input(\"Enter your choice:\"))\n",
    "    if ch==1:\n",
    "        l=int(input(\"Enter the length:\"))\n",
    "        b=int(input(\"Enter the breadth:\"))\n",
    "        rectangle.rectarea(l,b)\n",
    "        rectangle.rectperi(l,b)\n",
    "    elif ch==2:\n",
    "        r=int(input(\"Enter the radius:\"))\n",
    "        circ.circlearea(r)\n",
    "        circ.circleperi(r)\n",
    "    else:\n",
    "        print(\"Exiting...\")\n",
    "        break"
   ]
  },
  {
   "cell_type": "code",
   "execution_count": null,
   "id": "1f635005",
   "metadata": {},
   "outputs": [],
   "source": []
  }
 ],
 "metadata": {
  "kernelspec": {
   "display_name": "Python 3 (ipykernel)",
   "language": "python",
   "name": "python3"
  },
  "language_info": {
   "codemirror_mode": {
    "name": "ipython",
    "version": 3
   },
   "file_extension": ".py",
   "mimetype": "text/x-python",
   "name": "python",
   "nbconvert_exporter": "python",
   "pygments_lexer": "ipython3",
   "version": "3.7.11"
  }
 },
 "nbformat": 4,
 "nbformat_minor": 5
}
