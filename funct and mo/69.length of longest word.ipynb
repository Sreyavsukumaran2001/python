{
 "cells": [
  {
   "cell_type": "code",
   "execution_count": 1,
   "id": "34936dc0",
   "metadata": {},
   "outputs": [
    {
     "name": "stdout",
     "output_type": "stream",
     "text": [
      "Enter a list of words with comma seperated:ab,abc,abcd\n",
      "Length of longest word: 4\n"
     ]
    }
   ],
   "source": [
    "#69. Accept a list of words and return length of longest word.\n",
    "l1=[]\n",
    "l=list(map(str,input(\"Enter a list of words with comma seperated:\").split(\",\")))\n",
    "for i in l:\n",
    "    l1.append(len(i))\n",
    "print(\"Length of longest word:\",max(l1))"
   ]
  },
  {
   "cell_type": "code",
   "execution_count": null,
   "id": "74e1e0bd",
   "metadata": {},
   "outputs": [],
   "source": []
  }
 ],
 "metadata": {
  "kernelspec": {
   "display_name": "Python 3 (ipykernel)",
   "language": "python",
   "name": "python3"
  },
  "language_info": {
   "codemirror_mode": {
    "name": "ipython",
    "version": 3
   },
   "file_extension": ".py",
   "mimetype": "text/x-python",
   "name": "python",
   "nbconvert_exporter": "python",
   "pygments_lexer": "ipython3",
   "version": "3.7.11"
  }
 },
 "nbformat": 4,
 "nbformat_minor": 5
}
