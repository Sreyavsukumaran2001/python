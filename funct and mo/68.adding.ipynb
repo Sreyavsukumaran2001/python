{
 "cells": [
  {
   "cell_type": "code",
   "execution_count": 2,
   "id": "21e3f189",
   "metadata": {},
   "outputs": [
    {
     "name": "stdout",
     "output_type": "stream",
     "text": [
      "Enter a word:engineering\n",
      "New word: engineeringly\n"
     ]
    }
   ],
   "source": [
    "#68. Add ‘ing’ at the end of a given string. If it already ends with ‘ing’, then add ‘ly’.\n",
    "word=input(\"Enter a word:\")\n",
    "str1=word[-3:]\n",
    "if str1==\"ing\":\n",
    "    word=word+\"ly\"\n",
    "else:\n",
    "    word=word+\"ing\"\n",
    "print(\"New word:\",word)"
   ]
  },
  {
   "cell_type": "code",
   "execution_count": 3,
   "id": "a987c9a6",
   "metadata": {},
   "outputs": [
    {
     "name": "stdout",
     "output_type": "stream",
     "text": [
      "Enter a word:engineer\n",
      "New word: engineering\n"
     ]
    }
   ],
   "source": [
    "#68. Add ‘ing’ at the end of a given string. If it already ends with ‘ing’, then add ‘ly’.\n",
    "word=input(\"Enter a word:\")\n",
    "str1=word[-3:]\n",
    "if str1==\"ing\":\n",
    "    word=word+\"ly\"\n",
    "else:\n",
    "    word=word+\"ing\"\n",
    "print(\"New word:\",word)"
   ]
  },
  {
   "cell_type": "code",
   "execution_count": null,
   "id": "c058be0f",
   "metadata": {},
   "outputs": [],
   "source": []
  }
 ],
 "metadata": {
  "kernelspec": {
   "display_name": "Python 3 (ipykernel)",
   "language": "python",
   "name": "python3"
  },
  "language_info": {
   "codemirror_mode": {
    "name": "ipython",
    "version": 3
   },
   "file_extension": ".py",
   "mimetype": "text/x-python",
   "name": "python",
   "nbconvert_exporter": "python",
   "pygments_lexer": "ipython3",
   "version": "3.7.11"
  }
 },
 "nbformat": 4,
 "nbformat_minor": 5
}
