{
 "cells": [
  {
   "cell_type": "code",
   "execution_count": 1,
   "id": "e63b31c5",
   "metadata": {},
   "outputs": [
    {
     "name": "stdout",
     "output_type": "stream",
     "text": [
      "enter length of rectangle 1:5\n",
      "enter width of rectangle 1:3\n",
      "enter length of rectangle 2:5\n",
      "enter width of rectangle 2:4\n",
      "rectangle 2 is greater\n"
     ]
    }
   ],
   "source": [
    "#75. Create a class Rectangle with private attributes length and width. Overload ‘<’ operator to compare the\n",
    "class rectangle:\n",
    "    def __init__(self,l,w):\n",
    "        self.length=l\n",
    "        self.width=w\n",
    "        self.a=l*w\n",
    "    def __gt__(self,other):\n",
    "        if self.a<other.a:\n",
    "            print(\"rectangle 1 is greater\")\n",
    "        else:\n",
    "            print(\"rectangle 2 is greater\")\n",
    "l1=int(input(\"enter length of rectangle 1:\"))\n",
    "w1=int(input(\"enter width of rectangle 1:\"))\n",
    "l2=int(input(\"enter length of rectangle 2:\"))\n",
    "w2=int(input(\"enter width of rectangle 2:\"))\n",
    "r1=rectangle(l1,w1)\n",
    "r2=rectangle(l2,w2)\n",
    "r1<r2\n",
    "        \n"
   ]
  },
  {
   "cell_type": "code",
   "execution_count": null,
   "id": "56c5587e",
   "metadata": {},
   "outputs": [],
   "source": []
  }
 ],
 "metadata": {
  "kernelspec": {
   "display_name": "Python 3 (ipykernel)",
   "language": "python",
   "name": "python3"
  },
  "language_info": {
   "codemirror_mode": {
    "name": "ipython",
    "version": 3
   },
   "file_extension": ".py",
   "mimetype": "text/x-python",
   "name": "python",
   "nbconvert_exporter": "python",
   "pygments_lexer": "ipython3",
   "version": "3.7.11"
  }
 },
 "nbformat": 4,
 "nbformat_minor": 5
}
