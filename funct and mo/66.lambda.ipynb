{
 "cells": [
  {
   "cell_type": "code",
   "execution_count": 2,
   "id": "05ad575e",
   "metadata": {},
   "outputs": [
    {
     "name": "stdout",
     "output_type": "stream",
     "text": [
      "1.square\n",
      "2.Rectangle\n",
      "3.Triangle\n",
      "4.Exit\n",
      "Enter your choice:1\n",
      "Enter side:5\n",
      "Area of the square: 25\n",
      "1.square\n",
      "2.Rectangle\n",
      "3.Triangle\n",
      "4.Exit\n",
      "Enter your choice:2\n",
      "Enter the length:9\n",
      "Enter the breadth:5\n",
      "Area of the rectangle: 45\n",
      "1.square\n",
      "2.Rectangle\n",
      "3.Triangle\n",
      "4.Exit\n",
      "Enter your choice:3\n",
      "Enter the breadth:4\n",
      "Enter the height:2\n",
      "Area of the triangle: 4.0\n",
      "1.square\n",
      "2.Rectangle\n",
      "3.Triangle\n",
      "4.Exit\n",
      "Enter your choice:4\n",
      "Exiting.....\n"
     ]
    }
   ],
   "source": [
    "#66 Write lambda functions to find area of square, rectangle and triangle.\n",
    "sqr=lambda a:a*a\n",
    "rect=lambda l,b:l*b\n",
    "tri=lambda b,h:(b*h)/2\n",
    "while(1):\n",
    "    print(\"1.square\\n2.Rectangle\\n3.Triangle\\n4.Exit\")\n",
    "    ch=int(input(\"Enter your choice:\"))\n",
    "    if(ch==1):\n",
    "        a=int(input(\"Enter side:\"))\n",
    "        print(\"Area of the square:\",sqr(a))\n",
    "    elif(ch==2):\n",
    "        l=int(input(\"Enter the length:\"))\n",
    "        b=int(input(\"Enter the breadth:\"))\n",
    "        print(\"Area of the rectangle:\",rect(l,b))\n",
    "    elif(ch==3):\n",
    "        b=int(input(\"Enter the breadth:\"))\n",
    "        h=int(input(\"Enter the height:\"))\n",
    "        print(\"Area of the triangle:\",tri(b,h))\n",
    "    else:\n",
    "        print(\"Exiting.....\")\n",
    "        break\n",
    "        "
   ]
  },
  {
   "cell_type": "code",
   "execution_count": null,
   "id": "b52affa9",
   "metadata": {},
   "outputs": [],
   "source": []
  },
  {
   "cell_type": "code",
   "execution_count": null,
   "id": "181d1fca",
   "metadata": {},
   "outputs": [],
   "source": []
  }
 ],
 "metadata": {
  "kernelspec": {
   "display_name": "Python 3 (ipykernel)",
   "language": "python",
   "name": "python3"
  },
  "language_info": {
   "codemirror_mode": {
    "name": "ipython",
    "version": 3
   },
   "file_extension": ".py",
   "mimetype": "text/x-python",
   "name": "python",
   "nbconvert_exporter": "python",
   "pygments_lexer": "ipython3",
   "version": "3.7.11"
  }
 },
 "nbformat": 4,
 "nbformat_minor": 5
}
