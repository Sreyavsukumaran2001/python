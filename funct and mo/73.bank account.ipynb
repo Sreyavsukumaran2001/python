{
 "cells": [
  {
   "cell_type": "code",
   "execution_count": 3,
   "id": "d31f0be1",
   "metadata": {},
   "outputs": [
    {
     "name": "stdout",
     "output_type": "stream",
     "text": [
      "Enter name:drrr\n",
      "Enter account number:1039745\n",
      "Enter the account type:185654\n",
      "Enter initial balance:1235656\n"
     ]
    },
    {
     "ename": "TypeError",
     "evalue": "bankaccount() takes no arguments",
     "output_type": "error",
     "traceback": [
      "\u001b[0;31m---------------------------------------------------------------------------\u001b[0m",
      "\u001b[0;31mTypeError\u001b[0m                                 Traceback (most recent call last)",
      "\u001b[0;32m/tmp/ipykernel_5032/3013068305.py\u001b[0m in \u001b[0;36m<module>\u001b[0;34m\u001b[0m\n\u001b[1;32m     30\u001b[0m \u001b[0mtype\u001b[0m\u001b[0;34m=\u001b[0m\u001b[0;34m(\u001b[0m\u001b[0minput\u001b[0m\u001b[0;34m(\u001b[0m\u001b[0;34m\"Enter the account type:\"\u001b[0m\u001b[0;34m)\u001b[0m\u001b[0;34m)\u001b[0m\u001b[0;34m\u001b[0m\u001b[0;34m\u001b[0m\u001b[0m\n\u001b[1;32m     31\u001b[0m \u001b[0mbal\u001b[0m\u001b[0;34m=\u001b[0m\u001b[0mint\u001b[0m\u001b[0;34m(\u001b[0m\u001b[0minput\u001b[0m\u001b[0;34m(\u001b[0m\u001b[0;34m\"Enter initial balance:\"\u001b[0m\u001b[0;34m)\u001b[0m\u001b[0;34m)\u001b[0m\u001b[0;34m\u001b[0m\u001b[0;34m\u001b[0m\u001b[0m\n\u001b[0;32m---> 32\u001b[0;31m \u001b[0mholder\u001b[0m\u001b[0;34m=\u001b[0m\u001b[0mbankaccount\u001b[0m\u001b[0;34m(\u001b[0m\u001b[0mname\u001b[0m\u001b[0;34m,\u001b[0m\u001b[0mno\u001b[0m\u001b[0;34m,\u001b[0m\u001b[0mtype\u001b[0m\u001b[0;34m,\u001b[0m\u001b[0mbal\u001b[0m\u001b[0;34m)\u001b[0m\u001b[0;34m\u001b[0m\u001b[0;34m\u001b[0m\u001b[0m\n\u001b[0m\u001b[1;32m     33\u001b[0m \u001b[0;32mwhile\u001b[0m\u001b[0;34m(\u001b[0m\u001b[0;32mTrue\u001b[0m\u001b[0;34m)\u001b[0m\u001b[0;34m:\u001b[0m\u001b[0;34m\u001b[0m\u001b[0;34m\u001b[0m\u001b[0m\n\u001b[1;32m     34\u001b[0m     \u001b[0mch\u001b[0m\u001b[0;34m=\u001b[0m\u001b[0mint\u001b[0m\u001b[0;34m(\u001b[0m\u001b[0minput\u001b[0m\u001b[0;34m(\u001b[0m\u001b[0;34m\"1.Deposit 2.withdraw 3.Account info 4.Account info 5.Exit\\n Choose your option:\"\u001b[0m\u001b[0;34m)\u001b[0m\u001b[0;34m)\u001b[0m\u001b[0;34m\u001b[0m\u001b[0;34m\u001b[0m\u001b[0m\n",
      "\u001b[0;31mTypeError\u001b[0m: bankaccount() takes no arguments"
     ]
    }
   ],
   "source": [
    "#73. Create a Bank account with members account number, name, type of account and balance. Write constructor and methods to deposit at the bank and withdraw an amount from the bank.\n",
    "class bankaccount:\n",
    "    def __int__(self,a_name,a_no,a_type,a_balance):\n",
    "        self.acc_name=a_name\n",
    "        self.acc_no=a_no\n",
    "        self.acc_type=a_type\n",
    "        self.acc_balance=a_balance      \n",
    "    def deposit(self,a_deposit):\n",
    "        print(\"Initial balance: \",self.acc_balance)\n",
    "        self.acc_balance+=a_deposit\n",
    "        print(a_deposit, \"is deposited\")\n",
    "        print(\"current balance: \",self.acc_balance)\n",
    "    def withdraw(self):\n",
    "        self.amount=int(input(\"Withdraw amount: \"))\n",
    "        print(\"Initial balance: \",self.acc_balance)\n",
    "        if self.amount > self.acc_balance:\n",
    "            print(\"You don't have enough balance to withdraw !!\")\n",
    "            print(\"Current balance: \",self.acc_balance)\n",
    "        else:\n",
    "            print(self.amount,\"is withdrawed\")\n",
    "            self.acc_balance-=self.amount\n",
    "            print(\"Current balance:\",self.acc_balance)            \n",
    "    def acc_info(self):\n",
    "        print(\"Account holder name:\",self.acc_name)\n",
    "        print(\"Account number:\",self.acc_no)\n",
    "        print(\"Account type:\",self.acc_type)\n",
    "        print(\"Account balance:\",self.acc_balance)       \n",
    "name=input(\"Enter name:\")\n",
    "no=int(input(\"Enter account number:\"))\n",
    "type=(input(\"Enter the account type:\"))\n",
    "bal=int(input(\"Enter initial balance:\"))\n",
    "holder=bankaccount(name,no,type,bal)\n",
    "while(True):\n",
    "    ch=int(input(\"1.Deposit 2.withdraw 3.Account info 4.Account info 5.Exit\\n Choose your option:\"))\n",
    "    if ch==1:\n",
    "        amount=int(input(\"Deposit amount:\"))\n",
    "        holder.deposit(amount)\n",
    "    elif ch==2:\n",
    "        holder.withdraw()\n",
    "    elif ch==3:\n",
    "        holder.acc_info()\n",
    "    else:\n",
    "        print(\"Exiting......\")\n",
    "        break\n"
   ]
  },
  {
   "cell_type": "code",
   "execution_count": null,
   "id": "fd096299",
   "metadata": {},
   "outputs": [],
   "source": []
  }
 ],
 "metadata": {
  "kernelspec": {
   "display_name": "Python 3 (ipykernel)",
   "language": "python",
   "name": "python3"
  },
  "language_info": {
   "codemirror_mode": {
    "name": "ipython",
    "version": 3
   },
   "file_extension": ".py",
   "mimetype": "text/x-python",
   "name": "python",
   "nbconvert_exporter": "python",
   "pygments_lexer": "ipython3",
   "version": "3.7.11"
  }
 },
 "nbformat": 4,
 "nbformat_minor": 5
}
