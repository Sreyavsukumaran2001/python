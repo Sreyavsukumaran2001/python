{
 "cells": [
  {
   "cell_type": "code",
   "execution_count": 7,
   "id": "c2f0e1ee",
   "metadata": {},
   "outputs": [
    {
     "name": "stdout",
     "output_type": "stream",
     "text": [
      "Enter first year: 2020\n",
      "Enter second year: 2030\n",
      "Leap years between  2020 and 2030 :\n",
      "2020\n",
      "2024\n",
      "2028\n"
     ]
    }
   ],
   "source": [
    "#62. Display future leap years from current year to a final year entered by user.\n",
    "def leap(l,u):\n",
    "    print(\"Leap years between \",l, \"and\", u, \":\")\n",
    "    for i in range (l,u+1):\n",
    "        if(i%4==0) and (i%100!=0)or(i%400==0):\n",
    "         print(i)\n",
    "a=int(input(\"Enter first year: \"))\n",
    "b=int(input(\"Enter second year: \"))\n",
    "leap(a,b)"
   ]
  },
  {
   "cell_type": "code",
   "execution_count": null,
   "id": "4ab26a6b",
   "metadata": {},
   "outputs": [],
   "source": []
  }
 ],
 "metadata": {
  "kernelspec": {
   "display_name": "Python 3 (ipykernel)",
   "language": "python",
   "name": "python3"
  },
  "language_info": {
   "codemirror_mode": {
    "name": "ipython",
    "version": 3
   },
   "file_extension": ".py",
   "mimetype": "text/x-python",
   "name": "python",
   "nbconvert_exporter": "python",
   "pygments_lexer": "ipython3",
   "version": "3.7.11"
  }
 },
 "nbformat": 4,
 "nbformat_minor": 5
}
