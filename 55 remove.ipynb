{
 "cells": [
  {
   "cell_type": "code",
   "execution_count": 6,
   "id": "3b018d5f",
   "metadata": {},
   "outputs": [
    {
     "name": "stdout",
     "output_type": "stream",
     "text": [
      "list items= [10, 15, 39, 42, 53, 67, 82, 93]\n",
      "List items after removing even items= [15, 39, 53, 67, 93]\n"
     ]
    }
   ],
   "source": [
    "#55 from a list of integers create a list removing even numbers:\n",
    "evenlist=[10,15,39,42,53,67,82,93]\n",
    "print(\"list items=\",evenlist)\n",
    "for i in evenlist:\n",
    "    if(i%2==0):\n",
    "        evenlist.remove(i)\n",
    "print(\"List items after removing even items=\",evenlist)\n"
   ]
  },
  {
   "cell_type": "code",
   "execution_count": null,
   "id": "d1f082ff",
   "metadata": {},
   "outputs": [],
   "source": []
  }
 ],
 "metadata": {
  "kernelspec": {
   "display_name": "Python 3 (ipykernel)",
   "language": "python",
   "name": "python3"
  },
  "language_info": {
   "codemirror_mode": {
    "name": "ipython",
    "version": 3
   },
   "file_extension": ".py",
   "mimetype": "text/x-python",
   "name": "python",
   "nbconvert_exporter": "python",
   "pygments_lexer": "ipython3",
   "version": "3.7.11"
  }
 },
 "nbformat": 4,
 "nbformat_minor": 5
}
