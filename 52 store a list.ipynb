{
 "cells": [
  {
   "cell_type": "code",
   "execution_count": null,
   "id": "6db7eb33",
   "metadata": {},
   "outputs": [],
   "source": [
    "#52.Store a list of first names.Count the occurrences of ‘a’ within the list.\n",
    "names=['kuttu','akshay','binoy','joy','ramesh']\n",
    "print(\"names=\",names)\n",
    "count=0\n",
    "for name in names:\n",
    "    count+=name.count('a')\n",
    "print(\"occurence of a in\",names,\" is:\",count)\n"
   ]
  }
 ],
 "metadata": {
  "kernelspec": {
   "display_name": "Python 3 (ipykernel)",
   "language": "python",
   "name": "python3"
  },
  "language_info": {
   "codemirror_mode": {
    "name": "ipython",
    "version": 3
   },
   "file_extension": ".py",
   "mimetype": "text/x-python",
   "name": "python",
   "nbconvert_exporter": "python",
   "pygments_lexer": "ipython3",
   "version": "3.7.11"
  }
 },
 "nbformat": 4,
 "nbformat_minor": 5
}
