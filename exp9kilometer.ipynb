{
 "cells": [
  {
   "cell_type": "code",
   "execution_count": 1,
   "id": "9073c82f",
   "metadata": {},
   "outputs": [
    {
     "name": "stdout",
     "output_type": "stream",
     "text": [
      "Enter the kilometer:8\n",
      "Milimeter is: 4.97096\n"
     ]
    }
   ],
   "source": [
    "km=float(input(\"Enter the kilometer:\"))\n",
    "m=km*0.62137\n",
    "print(\"Milimeter is:\",m)"
   ]
  },
  {
   "cell_type": "code",
   "execution_count": null,
   "id": "a295ef20",
   "metadata": {},
   "outputs": [],
   "source": []
  }
 ],
 "metadata": {
  "kernelspec": {
   "display_name": "Python 3 (ipykernel)",
   "language": "python",
   "name": "python3"
  },
  "language_info": {
   "codemirror_mode": {
    "name": "ipython",
    "version": 3
   },
   "file_extension": ".py",
   "mimetype": "text/x-python",
   "name": "python",
   "nbconvert_exporter": "python",
   "pygments_lexer": "ipython3",
   "version": "3.7.11"
  }
 },
 "nbformat": 4,
 "nbformat_minor": 5
}
