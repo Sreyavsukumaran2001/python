{
 "cells": [
  {
   "cell_type": "code",
   "execution_count": 2,
   "id": "7767687e",
   "metadata": {},
   "outputs": [
    {
     "name": "stdout",
     "output_type": "stream",
     "text": [
      "Enter the numbers seperated by comma:1,8,-5,6\n",
      "Positive integers in the list: [1, 8, 6]\n",
      "Square of  numbers [1, 64, 25, 36]\n",
      "Enter the word:god\n",
      "The Vowels are: ['o']\n",
      "the ordinal values of the word god is [103, 111, 100]\n"
     ]
    }
   ],
   "source": [
    "#50.Using List comprehensions: \n",
    "n=input(\"Enter the numbers seperated by comma:\").split(\",\")\n",
    "b=map(int,n)\n",
    "nl=[x for x in b if x>0]\n",
    "print(\"Positive integers in the list:\",nl)\n",
    "d=map(int,n)\n",
    "#square of n numbers\n",
    "nl2=[x**2 for x in d]\n",
    "print( \"Square of  numbers\",nl2)\n",
    "#vowels\n",
    "w=input(\"Enter the word:\")\n",
    "vowels=[\"a\",\"e\",\"i\",\"o\",\"u\",'A','E','i','O','U']\n",
    "list=[v for v in w if any(char in vowels for char in v)]\n",
    "print(\"The Vowels are:\",list)\n",
    "z=[ord(x) for x in w]\n",
    "print(\"the ordinal values of the word %s is %s\"%(w,z))"
   ]
  },
  {
   "cell_type": "code",
   "execution_count": null,
   "id": "5499a58d",
   "metadata": {},
   "outputs": [],
   "source": []
  }
 ],
 "metadata": {
  "kernelspec": {
   "display_name": "Python 3 (ipykernel)",
   "language": "python",
   "name": "python3"
  },
  "language_info": {
   "codemirror_mode": {
    "name": "ipython",
    "version": 3
   },
   "file_extension": ".py",
   "mimetype": "text/x-python",
   "name": "python",
   "nbconvert_exporter": "python",
   "pygments_lexer": "ipython3",
   "version": "3.7.11"
  }
 },
 "nbformat": 4,
 "nbformat_minor": 5
}
