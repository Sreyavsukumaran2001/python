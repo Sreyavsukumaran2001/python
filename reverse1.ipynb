{
 "cells": [
  {
   "cell_type": "code",
   "execution_count": 23,
   "id": "c8d8bca3",
   "metadata": {},
   "outputs": [
    {
     "name": "stdout",
     "output_type": "stream",
     "text": [
      "Enter the number:325\n",
      "reverse of the number is: 523\n"
     ]
    }
   ],
   "source": [
    "#reverse a integer number\n",
    "a=int(input(\"Enter the number:\"))\n",
    "rev=0    \n",
    "while(a>0):    \n",
    "    d=a%10\n",
    "    rev=(rev*10)+d\n",
    "    a=a//10\n",
    "print(\"reverse of the number is:\",rev)\n",
    "    "
   ]
  },
  {
   "cell_type": "code",
   "execution_count": null,
   "id": "c59c0213",
   "metadata": {},
   "outputs": [],
   "source": []
  }
 ],
 "metadata": {
  "kernelspec": {
   "display_name": "Python 3 (ipykernel)",
   "language": "python",
   "name": "python3"
  },
  "language_info": {
   "codemirror_mode": {
    "name": "ipython",
    "version": 3
   },
   "file_extension": ".py",
   "mimetype": "text/x-python",
   "name": "python",
   "nbconvert_exporter": "python",
   "pygments_lexer": "ipython3",
   "version": "3.7.11"
  }
 },
 "nbformat": 4,
 "nbformat_minor": 5
}
