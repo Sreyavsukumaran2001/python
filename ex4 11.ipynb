{
 "cells": [
  {
   "cell_type": "code",
   "execution_count": 15,
   "id": "5ceca95a",
   "metadata": {},
   "outputs": [
    {
     "name": "stdout",
     "output_type": "stream",
     "text": [
      "Enter the first number:8.6\n",
      "Enter the second number:5.2\n",
      "Select the operation to perform:\n",
      "1.Addition:\n",
      "2.substraction:\n",
      "3.Multiplication:\n",
      "4.Division:\n",
      "Enter the option(1-4):1\n",
      "Addition: 13.8\n"
     ]
    }
   ],
   "source": [
    "a=float(input(\"Enter the first number:\"))\n",
    "b=float(input(\"Enter the second number:\"))\n",
    "print(\"Select the operation to perform:\")\n",
    "print(\"1.Addition:\")\n",
    "print(\"2.substraction:\")\n",
    "print(\"3.Multiplication:\")\n",
    "print(\"4.Division:\")\n",
    "ch=int(input(\"Enter the option(1-4):\"))\n",
    "if(ch==1):\n",
    "    print(\"Addition:\",(a+b))\n",
    "elif(ch==2):\n",
    "    print(\"Substraction:%.2f\"%(a-b))\n",
    "elif(ch==3):\n",
    "    print(\"Multiplication:%.2f\"%(a*b))\n",
    "elif(ch==4):\n",
    "    print(\"Divsion:%.2f\"%(a/b))\n",
    "else:\n",
    "    print(\"The number is invalid:\")"
   ]
  },
  {
   "cell_type": "code",
   "execution_count": null,
   "id": "5893b21b",
   "metadata": {},
   "outputs": [],
   "source": []
  }
 ],
 "metadata": {
  "kernelspec": {
   "display_name": "Python 3 (ipykernel)",
   "language": "python",
   "name": "python3"
  },
  "language_info": {
   "codemirror_mode": {
    "name": "ipython",
    "version": 3
   },
   "file_extension": ".py",
   "mimetype": "text/x-python",
   "name": "python",
   "nbconvert_exporter": "python",
   "pygments_lexer": "ipython3",
   "version": "3.7.11"
  }
 },
 "nbformat": 4,
 "nbformat_minor": 5
}
