{
 "cells": [
  {
   "cell_type": "code",
   "execution_count": 10,
   "id": "8114473d",
   "metadata": {},
   "outputs": [
    {
     "name": "stdout",
     "output_type": "stream",
     "text": [
      "Enter a number:352\n",
      "Number of digit is: 3\n"
     ]
    }
   ],
   "source": [
    "#no of digits\n",
    "n=int(input(\"Enter a number:\"))\n",
    "c=0\n",
    "while(n>0):\n",
    "    p=n%10\n",
    "    c=c+1\n",
    "    n=n//10\n",
    "print(\"Number of digit is:\",c)"
   ]
  },
  {
   "cell_type": "code",
   "execution_count": null,
   "id": "e1911b1b",
   "metadata": {},
   "outputs": [],
   "source": []
  }
 ],
 "metadata": {
  "kernelspec": {
   "display_name": "Python 3 (ipykernel)",
   "language": "python",
   "name": "python3"
  },
  "language_info": {
   "codemirror_mode": {
    "name": "ipython",
    "version": 3
   },
   "file_extension": ".py",
   "mimetype": "text/x-python",
   "name": "python",
   "nbconvert_exporter": "python",
   "pygments_lexer": "ipython3",
   "version": "3.7.11"
  }
 },
 "nbformat": 4,
 "nbformat_minor": 5
}
