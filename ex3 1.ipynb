{
 "cells": [
  {
   "cell_type": "code",
   "execution_count": 19,
   "id": "75cf8832",
   "metadata": {},
   "outputs": [
    {
     "name": "stdout",
     "output_type": "stream",
     "text": [
      "enter the number seperated by comma :1,2,3\n",
      "the number is: ['1', '2', '3']\n"
     ]
    }
   ],
   "source": [
    "l=input(\"enter the number seperated by comma :\")\n",
    "p=l.split(\",\")\n",
    "print(\"the number is:\",p)"
   ]
  },
  {
   "cell_type": "code",
   "execution_count": 26,
   "id": "28a063b1",
   "metadata": {},
   "outputs": [
    {
     "name": "stdout",
     "output_type": "stream",
     "text": [
      "enter the number seperated by dot:1.2,3\n",
      "the number is: ['1', '2,3']\n"
     ]
    }
   ],
   "source": [
    "l=input(\"enter the number seperated by dot:\")\n",
    "p=l.split(\".\")\n",
    "print(\"the number is:\",p)"
   ]
  },
  {
   "cell_type": "code",
   "execution_count": null,
   "id": "f567e061",
   "metadata": {},
   "outputs": [],
   "source": []
  }
 ],
 "metadata": {
  "kernelspec": {
   "display_name": "Python 3 (ipykernel)",
   "language": "python",
   "name": "python3"
  },
  "language_info": {
   "codemirror_mode": {
    "name": "ipython",
    "version": 3
   },
   "file_extension": ".py",
   "mimetype": "text/x-python",
   "name": "python",
   "nbconvert_exporter": "python",
   "pygments_lexer": "ipython3",
   "version": "3.7.11"
  }
 },
 "nbformat": 4,
 "nbformat_minor": 5
}
