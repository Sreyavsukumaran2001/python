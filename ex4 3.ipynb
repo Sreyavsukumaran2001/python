{
 "cells": [
  {
   "cell_type": "code",
   "execution_count": 3,
   "id": "1099722c",
   "metadata": {},
   "outputs": [
    {
     "name": "stdout",
     "output_type": "stream",
     "text": [
      "Length of the rectangle:9\n",
      "Breadth of the rectangle:2\n",
      "not a square\n"
     ]
    }
   ],
   "source": [
    "l=int(input(\"Length of the rectangle:\"))\n",
    "b=int(input(\"Breadth of the rectangle:\"))\n",
    "if(l==b):\n",
    "    print(\"it is square\")\n",
    "else:\n",
    "    print(\"not a square\")"
   ]
  },
  {
   "cell_type": "code",
   "execution_count": null,
   "id": "a9ec5699",
   "metadata": {},
   "outputs": [],
   "source": []
  }
 ],
 "metadata": {
  "kernelspec": {
   "display_name": "Python 3 (ipykernel)",
   "language": "python",
   "name": "python3"
  },
  "language_info": {
   "codemirror_mode": {
    "name": "ipython",
    "version": 3
   },
   "file_extension": ".py",
   "mimetype": "text/x-python",
   "name": "python",
   "nbconvert_exporter": "python",
   "pygments_lexer": "ipython3",
   "version": "3.7.11"
  }
 },
 "nbformat": 4,
 "nbformat_minor": 5
}
