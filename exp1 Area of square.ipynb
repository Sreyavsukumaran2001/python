{
 "cells": [
  {
   "cell_type": "code",
   "execution_count": 1,
   "id": "b9164166",
   "metadata": {},
   "outputs": [
    {
     "name": "stdout",
     "output_type": "stream",
     "text": [
      "enter the length of square:5\n",
      "Are 25a of the square is: 25\n"
     ]
    }
   ],
   "source": [
    "\n",
    "a=int((input(\"enter the length of square:\")))\n",
    "area=a*a\n",
    "print(\"Are 25a of the square is:\",area)\n"
   ]
  },
  {
   "cell_type": "code",
   "execution_count": null,
   "id": "213abf99",
   "metadata": {},
   "outputs": [],
   "source": []
  }
 ],
 "metadata": {
  "kernelspec": {
   "display_name": "Python 3 (ipykernel)",
   "language": "python",
   "name": "python3"
  },
  "language_info": {
   "codemirror_mode": {
    "name": "ipython",
    "version": 3
   },
   "file_extension": ".py",
   "mimetype": "text/x-python",
   "name": "python",
   "nbconvert_exporter": "python",
   "pygments_lexer": "ipython3",
   "version": "3.7.11"
  }
 },
 "nbformat": 4,
 "nbformat_minor": 5
}
