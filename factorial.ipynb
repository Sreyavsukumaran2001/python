{
 "cells": [
  {
   "cell_type": "code",
   "execution_count": 12,
   "id": "10eb0186",
   "metadata": {},
   "outputs": [
    {
     "name": "stdout",
     "output_type": "stream",
     "text": [
      "Enter a number:6\n",
      "Factorial of the number is: 720\n"
     ]
    }
   ],
   "source": [
    "#factorial\n",
    "n=int(input(\"Enter a number:\"))\n",
    "i=1\n",
    "f=1\n",
    "while(i<=n):\n",
    "    f=f*i\n",
    "    i=i+1\n",
    "print(\"Factorial of the number is:\",f)\n"
   ]
  },
  {
   "cell_type": "code",
   "execution_count": null,
   "id": "a2907089",
   "metadata": {},
   "outputs": [],
   "source": []
  }
 ],
 "metadata": {
  "kernelspec": {
   "display_name": "Python 3 (ipykernel)",
   "language": "python",
   "name": "python3"
  },
  "language_info": {
   "codemirror_mode": {
    "name": "ipython",
    "version": 3
   },
   "file_extension": ".py",
   "mimetype": "text/x-python",
   "name": "python",
   "nbconvert_exporter": "python",
   "pygments_lexer": "ipython3",
   "version": "3.7.11"
  }
 },
 "nbformat": 4,
 "nbformat_minor": 5
}
