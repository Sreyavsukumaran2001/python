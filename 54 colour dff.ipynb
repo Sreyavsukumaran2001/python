{
 "cells": [
  {
   "cell_type": "code",
   "execution_count": 10,
   "id": "976e5139",
   "metadata": {},
   "outputs": [
    {
     "name": "stdout",
     "output_type": "stream",
     "text": [
      "set of colors:\n",
      "{'orange', 'White', 'Black', 'Red'}\n",
      "{'Green', 'black', 'Red'}\n",
      "\n",
      "colors in ist1 not contained in list2:\n",
      "{'orange', 'Black', 'White'}\n"
     ]
    }
   ],
   "source": [
    "#54 Print out all colors from color-list1 not contained in color-list2\n",
    "list1 = set([\"White\", \"Black\", \"Red\",\"orange\"])\n",
    "list2 = set([\"Red\", \"Green\",\"black\"])\n",
    "print(\"set of colors:\")\n",
    "print(list1)\n",
    "print(list2)\n",
    "print(\"\\ncolors in ist1 not contained in list2:\")\n",
    "print(list1.difference(list2))"
   ]
  },
  {
   "cell_type": "code",
   "execution_count": null,
   "id": "8d89e5e8",
   "metadata": {},
   "outputs": [],
   "source": []
  }
 ],
 "metadata": {
  "kernelspec": {
   "display_name": "Python 3 (ipykernel)",
   "language": "python",
   "name": "python3"
  },
  "language_info": {
   "codemirror_mode": {
    "name": "ipython",
    "version": 3
   },
   "file_extension": ".py",
   "mimetype": "text/x-python",
   "name": "python",
   "nbconvert_exporter": "python",
   "pygments_lexer": "ipython3",
   "version": "3.7.11"
  }
 },
 "nbformat": 4,
 "nbformat_minor": 5
}
