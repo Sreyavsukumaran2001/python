{
 "cells": [
  {
   "cell_type": "code",
   "execution_count": 2,
   "id": "312fc6e3",
   "metadata": {},
   "outputs": [
    {
     "name": "stdout",
     "output_type": "stream",
     "text": [
      "enter the principal amount:100\n",
      "enter the time period:4\n",
      "enter the rate:12\n",
      "the simple interest is 48.0\n"
     ]
    }
   ],
   "source": [
    "p=int(input(\"enter the principal amount:\"))\n",
    "t=int(input(\"enter the time period:\"))\n",
    "r=int(input(\"enter the rate:\"))\n",
    "s=(p*r*t)/100\n",
    "print(\"the simple interest is\",s)"
   ]
  },
  {
   "cell_type": "code",
   "execution_count": null,
   "id": "90c580b6",
   "metadata": {},
   "outputs": [],
   "source": []
  }
 ],
 "metadata": {
  "kernelspec": {
   "display_name": "Python 3 (ipykernel)",
   "language": "python",
   "name": "python3"
  },
  "language_info": {
   "codemirror_mode": {
    "name": "ipython",
    "version": 3
   },
   "file_extension": ".py",
   "mimetype": "text/x-python",
   "name": "python",
   "nbconvert_exporter": "python",
   "pygments_lexer": "ipython3",
   "version": "3.7.11"
  }
 },
 "nbformat": 4,
 "nbformat_minor": 5
}
