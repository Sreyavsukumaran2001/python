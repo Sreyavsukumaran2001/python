{
 "cells": [
  {
   "cell_type": "code",
   "execution_count": 4,
   "id": "c99a0532",
   "metadata": {},
   "outputs": [
    {
     "name": "stdout",
     "output_type": "stream",
     "text": [
      "enter the first number is:10\n",
      "enter the second number is:12\n",
      "enter the third number is:18\n",
      "18 is greatest number\n"
     ]
    }
   ],
   "source": [
    "a=int(input(\"enter the first number is:\"))\n",
    "b=int(input(\"enter the second number is:\"))\n",
    "c=int(input(\"enter the third number is:\"))\n",
    "if(a>b and a>c):\n",
    "    print(\"%d is greatest number\"%a)\n",
    "elif(c>b):\n",
    "    print(\"%d is greatest number\"%c)\n",
    "else:\n",
    "    print(\"%d is greatest number\"%b)"
   ]
  },
  {
   "cell_type": "code",
   "execution_count": null,
   "id": "0cf309d5",
   "metadata": {},
   "outputs": [],
   "source": []
  }
 ],
 "metadata": {
  "kernelspec": {
   "display_name": "Python 3 (ipykernel)",
   "language": "python",
   "name": "python3"
  },
  "language_info": {
   "codemirror_mode": {
    "name": "ipython",
    "version": 3
   },
   "file_extension": ".py",
   "mimetype": "text/x-python",
   "name": "python",
   "nbconvert_exporter": "python",
   "pygments_lexer": "ipython3",
   "version": "3.7.11"
  }
 },
 "nbformat": 4,
 "nbformat_minor": 5
}
