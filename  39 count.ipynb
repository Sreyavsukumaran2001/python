{
 "cells": [
  {
   "cell_type": "code",
   "execution_count": 9,
   "id": "e68410e8",
   "metadata": {
    "scrolled": true
   },
   "outputs": [
    {
     "name": "stdout",
     "output_type": "stream",
     "text": [
      "Enter the string:butterfly\n",
      "Frequency of characters\n",
      "b = 1\n",
      "u = 1\n",
      "t = 2\n",
      "e = 1\n",
      "r = 1\n",
      "f = 1\n",
      "l = 1\n",
      "y = 1\n"
     ]
    }
   ],
   "source": [
    "#39 count the number of characterstics in a string\n",
    "s=input(\"Enter the string:\")\n",
    "freq={}\n",
    "for i in s:\n",
    "    if i in freq:\n",
    "         freq[i]+=1\n",
    "    else:\n",
    "        freq[i]=1\n",
    "print(\"Frequency of characters\")\n",
    "for keys,value in freq.items():\n",
    "    print(keys,\"=\",value) \n"
   ]
  },
  {
   "cell_type": "code",
   "execution_count": null,
   "id": "1894b843",
   "metadata": {},
   "outputs": [],
   "source": []
  }
 ],
 "metadata": {
  "kernelspec": {
   "display_name": "Python 3 (ipykernel)",
   "language": "python",
   "name": "python3"
  },
  "language_info": {
   "codemirror_mode": {
    "name": "ipython",
    "version": 3
   },
   "file_extension": ".py",
   "mimetype": "text/x-python",
   "name": "python",
   "nbconvert_exporter": "python",
   "pygments_lexer": "ipython3",
   "version": "3.7.11"
  }
 },
 "nbformat": 4,
 "nbformat_minor": 5
}
