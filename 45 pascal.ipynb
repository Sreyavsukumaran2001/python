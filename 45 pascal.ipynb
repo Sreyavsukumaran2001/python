{
 "cells": [
  {
   "cell_type": "code",
   "execution_count": 17,
   "id": "cd97f08a",
   "metadata": {
    "scrolled": true
   },
   "outputs": [
    {
     "name": "stdout",
     "output_type": "stream",
     "text": [
      "Enter the rows:4\n",
      "        \n",
      "      1   \n",
      "    1   1   \n",
      "  1   2   1   \n",
      "1   3   3   1   \n"
     ]
    }
   ],
   "source": [
    "#45 display pascals triangle\n",
    "n=int(input(\"Enter the rows:\"))\n",
    "for i in range(n+1):\n",
    "    for j in range(n-i):\n",
    "        print(' ',end=' ')\n",
    "    c=1\n",
    "    for j in range(1,i+1):\n",
    "        print(c,' ',sep=' ',end=' ')\n",
    "        c=c*(i-j)//j\n",
    "    print()"
   ]
  },
  {
   "cell_type": "code",
   "execution_count": null,
   "id": "8182fda6",
   "metadata": {},
   "outputs": [],
   "source": []
  }
 ],
 "metadata": {
  "kernelspec": {
   "display_name": "Python 3 (ipykernel)",
   "language": "python",
   "name": "python3"
  },
  "language_info": {
   "codemirror_mode": {
    "name": "ipython",
    "version": 3
   },
   "file_extension": ".py",
   "mimetype": "text/x-python",
   "name": "python",
   "nbconvert_exporter": "python",
   "pygments_lexer": "ipython3",
   "version": "3.7.11"
  }
 },
 "nbformat": 4,
 "nbformat_minor": 5
}
