{
 "cells": [
  {
   "cell_type": "code",
   "execution_count": 8,
   "id": "2b65d533",
   "metadata": {},
   "outputs": [
    {
     "name": "stdout",
     "output_type": "stream",
     "text": [
      "Number of classes held:30\n",
      "number of classes attended:28\n",
      "percentage 93.33333333333333\n",
      "The student can sit in exam\n"
     ]
    }
   ],
   "source": [
    "a=int(input(\"Number of classes held:\"))\n",
    "b=int(input (\"number of classes attended:\"))\n",
    "c=(b/a)*100\n",
    "print(\"percentage\",c)\n",
    "if(c>75):\n",
    "    print(\"The student can sit in exam\")\n",
    "else:\n",
    "    print(\"The student is not allowed to sit in exam\")"
   ]
  },
  {
   "cell_type": "code",
   "execution_count": null,
   "id": "6d4ec73b",
   "metadata": {},
   "outputs": [],
   "source": []
  }
 ],
 "metadata": {
  "kernelspec": {
   "display_name": "Python 3 (ipykernel)",
   "language": "python",
   "name": "python3"
  },
  "language_info": {
   "codemirror_mode": {
    "name": "ipython",
    "version": 3
   },
   "file_extension": ".py",
   "mimetype": "text/x-python",
   "name": "python",
   "nbconvert_exporter": "python",
   "pygments_lexer": "ipython3",
   "version": "3.7.11"
  }
 },
 "nbformat": 4,
 "nbformat_minor": 5
}
