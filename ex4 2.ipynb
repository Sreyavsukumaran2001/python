{
 "cells": [
  {
   "cell_type": "code",
   "execution_count": 4,
   "id": "4f4ca30d",
   "metadata": {},
   "outputs": [
    {
     "name": "stdout",
     "output_type": "stream",
     "text": [
      "enter a  number:0\n",
      "The number is zero\n"
     ]
    }
   ],
   "source": [
    "a=int(input(\"enter a  number:\"))\n",
    "if(a>0):\n",
    "    print(\"The number is positive\")\n",
    "elif(a==0):\n",
    "    print(\"The number is zero\")\n",
    "else:\n",
    "    print(\"the number is negative\")"
   ]
  },
  {
   "cell_type": "code",
   "execution_count": null,
   "id": "c5e18f62",
   "metadata": {},
   "outputs": [],
   "source": []
  }
 ],
 "metadata": {
  "kernelspec": {
   "display_name": "Python 3 (ipykernel)",
   "language": "python",
   "name": "python3"
  },
  "language_info": {
   "codemirror_mode": {
    "name": "ipython",
    "version": 3
   },
   "file_extension": ".py",
   "mimetype": "text/x-python",
   "name": "python",
   "nbconvert_exporter": "python",
   "pygments_lexer": "ipython3",
   "version": "3.7.11"
  }
 },
 "nbformat": 4,
 "nbformat_minor": 5
}
