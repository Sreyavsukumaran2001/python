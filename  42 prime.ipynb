{
 "cells": [
  {
   "cell_type": "code",
   "execution_count": 1,
   "id": "db27447b",
   "metadata": {},
   "outputs": [
    {
     "name": "stdout",
     "output_type": "stream",
     "text": [
      "Enter the number:1\n",
      "1 is not a prime\n"
     ]
    }
   ],
   "source": [
    "#42 check given number is prime or not\n",
    "n=int(input(\"Enter the number:\"))\n",
    "if(n>1):\n",
    "    for i in range(2,n):\n",
    "        if(n%i)==0:\n",
    "            print(n,\"is not a prime number\")\n",
    "            break\n",
    "    else:\n",
    "        print(n,\" is a prime number\")\n",
    "else:\n",
    "    print(n,\"is not a prime\")"
   ]
  },
  {
   "cell_type": "code",
   "execution_count": null,
   "id": "8979dcb3",
   "metadata": {},
   "outputs": [],
   "source": []
  }
 ],
 "metadata": {
  "kernelspec": {
   "display_name": "Python 3 (ipykernel)",
   "language": "python",
   "name": "python3"
  },
  "language_info": {
   "codemirror_mode": {
    "name": "ipython",
    "version": 3
   },
   "file_extension": ".py",
   "mimetype": "text/x-python",
   "name": "python",
   "nbconvert_exporter": "python",
   "pygments_lexer": "ipython3",
   "version": "3.7.11"
  }
 },
 "nbformat": 4,
 "nbformat_minor": 5
}
