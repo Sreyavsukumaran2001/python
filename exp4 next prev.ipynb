{
 "cells": [
  {
   "cell_type": "code",
   "execution_count": 2,
   "id": "1603037f",
   "metadata": {},
   "outputs": [
    {
     "name": "stdout",
     "output_type": "stream",
     "text": [
      "enter an integer:5\n",
      "The next number id 6 the previous is 4\n"
     ]
    }
   ],
   "source": [
    "num=int(input(\"enter an integer:\"))\n",
    "next=num+1\n",
    "prev=num-1\n",
    "print(\"The next number id\",next,\"the previous is\",prev)"
   ]
  },
  {
   "cell_type": "code",
   "execution_count": null,
   "id": "d69fa990",
   "metadata": {},
   "outputs": [],
   "source": []
  }
 ],
 "metadata": {
  "kernelspec": {
   "display_name": "Python 3 (ipykernel)",
   "language": "python",
   "name": "python3"
  },
  "language_info": {
   "codemirror_mode": {
    "name": "ipython",
    "version": 3
   },
   "file_extension": ".py",
   "mimetype": "text/x-python",
   "name": "python",
   "nbconvert_exporter": "python",
   "pygments_lexer": "ipython3",
   "version": "3.7.11"
  }
 },
 "nbformat": 4,
 "nbformat_minor": 5
}
