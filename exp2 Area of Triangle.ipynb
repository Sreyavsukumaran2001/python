{
 "cells": [
  {
   "cell_type": "code",
   "execution_count": 1,
   "id": "8aa42df9",
   "metadata": {},
   "outputs": [
    {
     "name": "stdout",
     "output_type": "stream",
     "text": [
      "Enter the breadth of triangle:8\n",
      "Enter the height of the triangle:3\n",
      "Area of the  right angled triangle: 12.0\n"
     ]
    }
   ],
   "source": [
    "b=int(input(\"Enter the breadth of triangle:\"))\n",
    "h=int(input(\"Enter the height of the triangle:\"))\n",
    "area= (b*h)/2\n",
    "print(\"Area of the  right angled triangle:\",area)"
   ]
  },
  {
   "cell_type": "code",
   "execution_count": null,
   "id": "facb30ae",
   "metadata": {},
   "outputs": [],
   "source": []
  }
 ],
 "metadata": {
  "kernelspec": {
   "display_name": "Python 3 (ipykernel)",
   "language": "python",
   "name": "python3"
  },
  "language_info": {
   "codemirror_mode": {
    "name": "ipython",
    "version": 3
   },
   "file_extension": ".py",
   "mimetype": "text/x-python",
   "name": "python",
   "nbconvert_exporter": "python",
   "pygments_lexer": "ipython3",
   "version": "3.7.11"
  }
 },
 "nbformat": 4,
 "nbformat_minor": 5
}
