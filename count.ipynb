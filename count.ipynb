{
 "cells": [
  {
   "cell_type": "code",
   "execution_count": 21,
   "id": "e68410e8",
   "metadata": {},
   "outputs": [
    {
     "name": "stdout",
     "output_type": "stream",
     "text": [
      "Enter the string:butter\n",
      "count of all characters in the string:\n",
      "{'b': 1, 'u': 1, 't': 2, 'e': 1, 'r': 1}\n"
     ]
    }
   ],
   "source": [
    "#39 count the number of characterstics in a string\n",
    "s=input(\"Enter the string:\")\n",
    "freq={}\n",
    "for i in s:\n",
    "    if i in freq:\n",
    "         freq[i]+=1\n",
    "    else:\n",
    "        freq[i]=1\n",
    "print(\"count of all characters in the string:\\n\" \n",
    "      + str(freq)) \n"
   ]
  },
  {
   "cell_type": "code",
   "execution_count": null,
   "id": "1894b843",
   "metadata": {},
   "outputs": [],
   "source": []
  }
 ],
 "metadata": {
  "kernelspec": {
   "display_name": "Python 3 (ipykernel)",
   "language": "python",
   "name": "python3"
  },
  "language_info": {
   "codemirror_mode": {
    "name": "ipython",
    "version": 3
   },
   "file_extension": ".py",
   "mimetype": "text/x-python",
   "name": "python",
   "nbconvert_exporter": "python",
   "pygments_lexer": "ipython3",
   "version": "3.7.11"
  }
 },
 "nbformat": 4,
 "nbformat_minor": 5
}
