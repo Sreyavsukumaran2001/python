{
 "cells": [
  {
   "cell_type": "code",
   "execution_count": 6,
   "id": "ef5a88a0",
   "metadata": {},
   "outputs": [
    {
     "name": "stdout",
     "output_type": "stream",
     "text": [
      "Enter a character:a\n",
      "The character is vowel:\n"
     ]
    }
   ],
   "source": [
    "ch=input(\"Enter a character:\")\n",
    "if(ch==\"a\"or ch==\"A\"or ch==\"e\"or ch==\"E\"or ch==\"i\"or ch==\"I\"or ch==\"o\"or ch==\"O\"or ch==\"u\"or ch==\"U\"):\n",
    "    print(\"The character is vowel:\")\n",
    "else:\n",
    "    print(\"The character is not vowel:\")"
   ]
  },
  {
   "cell_type": "code",
   "execution_count": 7,
   "id": "575151eb",
   "metadata": {},
   "outputs": [
    {
     "name": "stdout",
     "output_type": "stream",
     "text": [
      "Enter a character:t\n",
      "The character is not vowel:\n"
     ]
    }
   ],
   "source": [
    "ch=input(\"Enter a character:\")\n",
    "if(ch==\"a\"or ch==\"A\"or ch==\"e\"or ch==\"E\"or ch==\"i\"or ch==\"I\"or ch==\"o\"or ch==\"O\"or ch==\"u\"or ch==\"U\"):\n",
    "    print(\"The character is vowel:\")\n",
    "else:\n",
    "    print(\"The character is not vowel:\")"
   ]
  },
  {
   "cell_type": "code",
   "execution_count": null,
   "id": "65379601",
   "metadata": {},
   "outputs": [],
   "source": []
  }
 ],
 "metadata": {
  "kernelspec": {
   "display_name": "Python 3 (ipykernel)",
   "language": "python",
   "name": "python3"
  },
  "language_info": {
   "codemirror_mode": {
    "name": "ipython",
    "version": 3
   },
   "file_extension": ".py",
   "mimetype": "text/x-python",
   "name": "python",
   "nbconvert_exporter": "python",
   "pygments_lexer": "ipython3",
   "version": "3.7.11"
  }
 },
 "nbformat": 4,
 "nbformat_minor": 5
}
