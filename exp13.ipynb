{
 "cells": [
  {
   "cell_type": "code",
   "execution_count": 1,
   "id": "f0f7dbf7",
   "metadata": {},
   "outputs": [
    {
     "name": "stdout",
     "output_type": "stream",
     "text": [
      "string is welcome\n",
      "new string is weme\n"
     ]
    }
   ],
   "source": [
    "str=\"welcome\"\n",
    "print(\"string is\",str)\n",
    "a=str[0:2]+str[5:]\n",
    "print(\"new string is\",a)"
   ]
  },
  {
   "cell_type": "code",
   "execution_count": null,
   "id": "e8afdb70",
   "metadata": {},
   "outputs": [],
   "source": []
  }
 ],
 "metadata": {
  "kernelspec": {
   "display_name": "Python 3 (ipykernel)",
   "language": "python",
   "name": "python3"
  },
  "language_info": {
   "codemirror_mode": {
    "name": "ipython",
    "version": 3
   },
   "file_extension": ".py",
   "mimetype": "text/x-python",
   "name": "python",
   "nbconvert_exporter": "python",
   "pygments_lexer": "ipython3",
   "version": "3.7.11"
  }
 },
 "nbformat": 4,
 "nbformat_minor": 5
}
