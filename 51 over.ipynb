{
 "cells": [
  {
   "cell_type": "code",
   "execution_count": 2,
   "id": "58c6b3c7",
   "metadata": {},
   "outputs": [
    {
     "name": "stdout",
     "output_type": "stream",
     "text": [
      "enter an integer('enter stop to stop'):200\n",
      "enter an integer('enter stop to stop'):100\n",
      "enter an integer('enter stop to stop'):37\n",
      "enter an integer('enter stop to stop'):67\n",
      "enter an integer('enter stop to stop'):110\n",
      "enter an integer('enter stop to stop'):stop\n",
      "['over', 100, 37, 67, 'over']\n"
     ]
    }
   ],
   "source": [
    "#Prompt the user for a list of integers. For all values greater than 100, store ‘over’\n",
    "#instead.\n",
    "values=[]\n",
    "while True:\n",
    "    value = input(\"enter an integer('enter stop to stop'):\")\n",
    "    if value == 'stop':\n",
    "        break\n",
    "    elif int(value)>100:\n",
    "        values.append('over')\n",
    "    else:\n",
    "        values.append(int(value))\n",
    "print(values)\n"
   ]
  },
  {
   "cell_type": "code",
   "execution_count": null,
   "id": "843c4843",
   "metadata": {},
   "outputs": [],
   "source": []
  }
 ],
 "metadata": {
  "kernelspec": {
   "display_name": "Python 3 (ipykernel)",
   "language": "python",
   "name": "python3"
  },
  "language_info": {
   "codemirror_mode": {
    "name": "ipython",
    "version": 3
   },
   "file_extension": ".py",
   "mimetype": "text/x-python",
   "name": "python",
   "nbconvert_exporter": "python",
   "pygments_lexer": "ipython3",
   "version": "3.7.11"
  }
 },
 "nbformat": 4,
 "nbformat_minor": 5
}
