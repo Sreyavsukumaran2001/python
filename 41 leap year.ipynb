{
 "cells": [
  {
   "cell_type": "code",
   "execution_count": 1,
   "id": "e5599fbb",
   "metadata": {},
   "outputs": [
    {
     "name": "stdout",
     "output_type": "stream",
     "text": [
      "Enter a starting year:1996\n",
      "Enter last year:2020\n",
      "leap year from 1996 to 2020 is:\n",
      "1996\n",
      "2000\n",
      "2004\n",
      "2008\n",
      "2012\n",
      "2016\n"
     ]
    }
   ],
   "source": [
    "# 41 print leap year in a given range\n",
    "a=int(input(\"Enter a starting year:\"))\n",
    "b=int(input(\"Enter last year:\"))\n",
    "print(\"leap year from\",a,\"to\",b,\"is:\")\n",
    "for i in range(a,b):\n",
    "    if(0==i%4) and (0!=i%100) or (0==i%400):\n",
    "        print(i)"
   ]
  },
  {
   "cell_type": "code",
   "execution_count": null,
   "id": "f0bc5d33",
   "metadata": {},
   "outputs": [],
   "source": []
  }
 ],
 "metadata": {
  "kernelspec": {
   "display_name": "Python 3 (ipykernel)",
   "language": "python",
   "name": "python3"
  },
  "language_info": {
   "codemirror_mode": {
    "name": "ipython",
    "version": 3
   },
   "file_extension": ".py",
   "mimetype": "text/x-python",
   "name": "python",
   "nbconvert_exporter": "python",
   "pygments_lexer": "ipython3",
   "version": "3.7.11"
  }
 },
 "nbformat": 4,
 "nbformat_minor": 5
}
