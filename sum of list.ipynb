{
 "cells": [
  {
   "cell_type": "code",
   "execution_count": 7,
   "id": "a8078d76",
   "metadata": {},
   "outputs": [
    {
     "name": "stdout",
     "output_type": "stream",
     "text": [
      "How many numbers:4\n",
      "Enter the number:10\n",
      "Enter the number:10\n",
      "Enter the number:10\n",
      "Enter the number:12\n",
      "Sum of the numbers in the list is: 42\n"
     ]
    }
   ],
   "source": [
    "#37 sum of all items in a list\n",
    "lst=[]\n",
    "num=int(input(\"How many numbers:\"))\n",
    "for i in range(num):\n",
    "    a=int(input(\"Enter the number:\"))\n",
    "    lst.append(a)\n",
    "print(\"Sum of the numbers in the list is:\",sum(lst))"
   ]
  },
  {
   "cell_type": "code",
   "execution_count": null,
   "id": "def5c925",
   "metadata": {},
   "outputs": [],
   "source": []
  }
 ],
 "metadata": {
  "kernelspec": {
   "display_name": "Python 3 (ipykernel)",
   "language": "python",
   "name": "python3"
  },
  "language_info": {
   "codemirror_mode": {
    "name": "ipython",
    "version": 3
   },
   "file_extension": ".py",
   "mimetype": "text/x-python",
   "name": "python",
   "nbconvert_exporter": "python",
   "pygments_lexer": "ipython3",
   "version": "3.7.11"
  }
 },
 "nbformat": 4,
 "nbformat_minor": 5
}
