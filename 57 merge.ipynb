{
 "cells": [
  {
   "cell_type": "code",
   "execution_count": 9,
   "id": "a2a23706",
   "metadata": {},
   "outputs": [
    {
     "name": "stdout",
     "output_type": "stream",
     "text": [
      "The first dictionery is: {'Doora': 15, 'Buji': 10, 'Kurunari': 12}\n",
      "The second dictionery is: {'Bheem': 18, 'Chuki': 20, 'Galiya': 16}\n",
      " Updated dictionary:\n",
      "{'Doora': 15, 'Buji': 10, 'Kurunari': 12, 'Bheem': 18, 'Chuki': 20, 'Galiya': 16}\n"
     ]
    }
   ],
   "source": [
    "#57 merge two dictioneries\n",
    "dict1 = {'Doora': 15, 'Buji': 10, 'Kurunari' : 12 }\n",
    "dict2 = {'Bheem': 18,'Chuki': 20,'Galiya' : 16 }\n",
    "print(\"The first dictionery is:\",dict1)\n",
    "print(\"The second dictionery is:\",dict2)\n",
    "dict1.update(dict2)\n",
    "print(' Updated dictionary:')\n",
    "print(dict1)"
   ]
  },
  {
   "cell_type": "code",
   "execution_count": null,
   "id": "a7698fdd",
   "metadata": {},
   "outputs": [],
   "source": []
  }
 ],
 "metadata": {
  "kernelspec": {
   "display_name": "Python 3 (ipykernel)",
   "language": "python",
   "name": "python3"
  },
  "language_info": {
   "codemirror_mode": {
    "name": "ipython",
    "version": 3
   },
   "file_extension": ".py",
   "mimetype": "text/x-python",
   "name": "python",
   "nbconvert_exporter": "python",
   "pygments_lexer": "ipython3",
   "version": "3.7.11"
  }
 },
 "nbformat": 4,
 "nbformat_minor": 5
}
