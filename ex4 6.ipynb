{
 "cells": [
  {
   "cell_type": "code",
   "execution_count": 2,
   "id": "50ec543c",
   "metadata": {},
   "outputs": [
    {
     "name": "stdout",
     "output_type": "stream",
     "text": [
      "enter the list of numbers:10,20,30,10\n",
      "['10', '20', '30', '10']\n",
      "True\n"
     ]
    }
   ],
   "source": [
    "a=(input(\"enter the list of numbers:\"))\n",
    "l=a.split(\",\")\n",
    "print(l)\n",
    "if(l[0])==(l[-1]):\n",
    "    print(\"True\")\n",
    "else:\n",
    "    print(\"first and last numbers are different\")"
   ]
  },
  {
   "cell_type": "code",
   "execution_count": 3,
   "id": "2c74b2b3",
   "metadata": {},
   "outputs": [
    {
     "name": "stdout",
     "output_type": "stream",
     "text": [
      "enter the list of numbers:10,20,30,40\n",
      "['10', '20', '30', '40']\n",
      "first and last numbers are different\n"
     ]
    }
   ],
   "source": [
    "a=(input(\"enter the list of numbers:\"))\n",
    "l=a.split(\",\")\n",
    "print(l)\n",
    "if(l[0])==(l[-1]):\n",
    "    print(\"True\")\n",
    "else:\n",
    "    print(\"first and last numbers are different\")"
   ]
  },
  {
   "cell_type": "code",
   "execution_count": null,
   "id": "f89d528b",
   "metadata": {},
   "outputs": [],
   "source": []
  }
 ],
 "metadata": {
  "kernelspec": {
   "display_name": "Python 3 (ipykernel)",
   "language": "python",
   "name": "python3"
  },
  "language_info": {
   "codemirror_mode": {
    "name": "ipython",
    "version": 3
   },
   "file_extension": ".py",
   "mimetype": "text/x-python",
   "name": "python",
   "nbconvert_exporter": "python",
   "pygments_lexer": "ipython3",
   "version": "3.7.11"
  }
 },
 "nbformat": 4,
 "nbformat_minor": 5
}
