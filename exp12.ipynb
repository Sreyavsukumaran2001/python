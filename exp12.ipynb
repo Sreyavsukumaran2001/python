{
 "cells": [
  {
   "cell_type": "code",
   "execution_count": 15,
   "id": "82a00113",
   "metadata": {},
   "outputs": [
    {
     "name": "stdout",
     "output_type": "stream",
     "text": [
      "Enter the string:python\n",
      "New string is: nythop\n"
     ]
    }
   ],
   "source": [
    "s=input(\"Enter the string:\")\n",
    "string=\"python\"\n",
    "start = string[0]\n",
    "end = string[-1] \n",
    "string = end + string[1:-1] + start\n",
    "print(\"New string is:\",string)\n"
   ]
  },
  {
   "cell_type": "code",
   "execution_count": 2,
   "id": "3d70952b",
   "metadata": {},
   "outputs": [
    {
     "name": "stdout",
     "output_type": "stream",
     "text": [
      "Enter a string:mango\n",
      "new string:oangm\n"
     ]
    }
   ],
   "source": [
    "s=input(\"Enter a string:\")\n",
    "a=s[0]\n",
    "b=s[-1]\n",
    "c=s[1:-1]\n",
    "d=b+c+a\n",
    "print(\"new string:%s\"%d)"
   ]
  },
  {
   "cell_type": "code",
   "execution_count": null,
   "id": "5f8dc518",
   "metadata": {},
   "outputs": [],
   "source": []
  }
 ],
 "metadata": {
  "kernelspec": {
   "display_name": "Python 3 (ipykernel)",
   "language": "python",
   "name": "python3"
  },
  "language_info": {
   "codemirror_mode": {
    "name": "ipython",
    "version": 3
   },
   "file_extension": ".py",
   "mimetype": "text/x-python",
   "name": "python",
   "nbconvert_exporter": "python",
   "pygments_lexer": "ipython3",
   "version": "3.7.11"
  }
 },
 "nbformat": 4,
 "nbformat_minor": 5
}
