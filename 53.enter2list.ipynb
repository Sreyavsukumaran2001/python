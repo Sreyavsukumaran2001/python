{
 "cells": [
  {
   "cell_type": "code",
   "execution_count": 1,
   "id": "87ae21d1",
   "metadata": {},
   "outputs": [
    {
     "name": "stdout",
     "output_type": "stream",
     "text": [
      "Two lists have unequal length\n",
      " sum of two list are  not equal\n",
      "2  occurs in both lst\n",
      "3  occurs in both lst\n"
     ]
    }
   ],
   "source": [
    "#53. Enter 2 lists of integers.\n",
    "Check \n",
    "           (a) Whether list are of same length \n",
    "           (b) whether list sums to same value \n",
    "           (c) whether any value occur in both\n",
    "lst1 = ['1', '2', '3', '4']\n",
    "lst2 = ['3', '5', '2', '100', '12', '12']\n",
    "sum1 = str(0)\n",
    "sum2 = str(0)\n",
    "if len(lst1) == len(lst2):\n",
    "    print(\"both list are of equal length\")\n",
    "else:\n",
    "    print(\"Two lists have unequal length\")\n",
    "for x in lst1:\n",
    "    sum1 = sum1 + x\n",
    "for x in lst2:\n",
    "    sum2 = sum2 + x\n",
    "if sum1 == sum2:\n",
    "    a = \"equal\"  \n",
    "else:\n",
    "    a = \"not equal\"  \n",
    "print(\" sum of two list are \", a)  \n",
    "for x in lst1:\n",
    "    for y in lst2:\n",
    "        if x == y:\n",
    "            print(y,\" occurs in both lst\")"
   ]
  },
  {
   "cell_type": "code",
   "execution_count": null,
   "id": "ef034e27",
   "metadata": {},
   "outputs": [],
   "source": []
  }
 ],
 "metadata": {
  "kernelspec": {
   "display_name": "Python 3 (ipykernel)",
   "language": "python",
   "name": "python3"
  },
  "language_info": {
   "codemirror_mode": {
    "name": "ipython",
    "version": 3
   },
   "file_extension": ".py",
   "mimetype": "text/x-python",
   "name": "python",
   "nbconvert_exporter": "python",
   "pygments_lexer": "ipython3",
   "version": "3.7.11"
  }
 },
 "nbformat": 4,
 "nbformat_minor": 5
}
