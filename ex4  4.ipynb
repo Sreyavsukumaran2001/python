{
 "cells": [
  {
   "cell_type": "code",
   "execution_count": 11,
   "id": "3f129a67",
   "metadata": {},
   "outputs": [
    {
     "name": "stdout",
     "output_type": "stream",
     "text": [
      "Enter the first number:1000\n",
      "Enter the second number:100\n",
      "product= 100000\n",
      "sum= 1100\n"
     ]
    }
   ],
   "source": [
    "a=int(input(\"Enter the first number:\"))\n",
    "b=int(input(\"Enter the second number:\"))\n",
    "c=(a*b)\n",
    "print(\"product=\",c)\n",
    "if(c>1000):\n",
    "    print(\"sum=\",(a+b))"
   ]
  },
  {
   "cell_type": "code",
   "execution_count": 10,
   "id": "a24f5522",
   "metadata": {},
   "outputs": [
    {
     "name": "stdout",
     "output_type": "stream",
     "text": [
      "Enter the number:1000\n",
      "Enter the number:100\n",
      "product=100000\n",
      "sum= 1100\n"
     ]
    }
   ],
   "source": [
    "a=int(input(\"Enter the number:\"))\n",
    "b=int(input(\"Enter the number:\"))\n",
    "c=(a*b)\n",
    "print(\"product=%d\"%c)\n",
    "if(c>1000):\n",
    "    print(\"sum=\",(a+b))"
   ]
  },
  {
   "cell_type": "code",
   "execution_count": null,
   "id": "9ccd9c6c",
   "metadata": {},
   "outputs": [],
   "source": []
  }
 ],
 "metadata": {
  "kernelspec": {
   "display_name": "Python 3 (ipykernel)",
   "language": "python",
   "name": "python3"
  },
  "language_info": {
   "codemirror_mode": {
    "name": "ipython",
    "version": 3
   },
   "file_extension": ".py",
   "mimetype": "text/x-python",
   "name": "python",
   "nbconvert_exporter": "python",
   "pygments_lexer": "ipython3",
   "version": "3.7.11"
  }
 },
 "nbformat": 4,
 "nbformat_minor": 5
}
