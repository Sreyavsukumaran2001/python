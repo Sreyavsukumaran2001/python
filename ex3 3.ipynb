{
 "cells": [
  {
   "cell_type": "code",
   "execution_count": 1,
   "id": "3acc9f92",
   "metadata": {},
   "outputs": [
    {
     "name": "stdout",
     "output_type": "stream",
     "text": [
      "enter the file name:python.exe\n",
      "extension of the file name is: exe\n"
     ]
    }
   ],
   "source": [
    "n=input(\"enter the file name:\")\n",
    "name=n.split(\".\")\n",
    "print(\"extension of the file name is:\",name[-1])"
   ]
  },
  {
   "cell_type": "code",
   "execution_count": null,
   "id": "50abdd45",
   "metadata": {},
   "outputs": [],
   "source": []
  }
 ],
 "metadata": {
  "kernelspec": {
   "display_name": "Python 3 (ipykernel)",
   "language": "python",
   "name": "python3"
  },
  "language_info": {
   "codemirror_mode": {
    "name": "ipython",
    "version": 3
   },
   "file_extension": ".py",
   "mimetype": "text/x-python",
   "name": "python",
   "nbconvert_exporter": "python",
   "pygments_lexer": "ipython3",
   "version": "3.7.11"
  }
 },
 "nbformat": 4,
 "nbformat_minor": 5
}
