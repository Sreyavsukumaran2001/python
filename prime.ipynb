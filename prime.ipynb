{
 "cells": [
  {
   "cell_type": "code",
   "execution_count": null,
   "id": "572e4bf9",
   "metadata": {},
   "outputs": [],
   "source": [
    "#42 check number is prime or not\n",
    "n=int(input(\"Enter the number\"))\n",
    "if(n>1):\n",
    "    for i in range(2,n//2):\n",
    "        if(num==0):\n",
    "            print(n,\"The number is a prime number\",n)\n",
    "    else:\n",
    "        print(n,\"The number is not a prime number\",n)"
   ]
  },
  {
   "cell_type": "code",
   "execution_count": null,
   "id": "f19a5591",
   "metadata": {},
   "outputs": [],
   "source": []
  }
 ],
 "metadata": {
  "kernelspec": {
   "display_name": "Python 3 (ipykernel)",
   "language": "python",
   "name": "python3"
  },
  "language_info": {
   "codemirror_mode": {
    "name": "ipython",
    "version": 3
   },
   "file_extension": ".py",
   "mimetype": "text/x-python",
   "name": "python",
   "nbconvert_exporter": "python",
   "pygments_lexer": "ipython3",
   "version": "3.7.11"
  }
 },
 "nbformat": 4,
 "nbformat_minor": 5
}
