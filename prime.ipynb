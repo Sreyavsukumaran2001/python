{
 "cells": [
  {
   "cell_type": "code",
   "execution_count": 13,
   "id": "f19a5591",
   "metadata": {},
   "outputs": [
    {
     "ename": "IndentationError",
     "evalue": "expected an indented block (3816490150.py, line 8)",
     "output_type": "error",
     "traceback": [
      "\u001b[0;36m  File \u001b[0;32m\"/tmp/ipykernel_4407/3816490150.py\"\u001b[0;36m, line \u001b[0;32m8\u001b[0m\n\u001b[0;31m    print(n,\" is a prime number\")\u001b[0m\n\u001b[0m        ^\u001b[0m\n\u001b[0;31mIndentationError\u001b[0m\u001b[0;31m:\u001b[0m expected an indented block\n"
     ]
    }
   ],
   "source": [
    "#check given number is prime or not\n",
    "n=int(input(\"Enter the number:\"))\n",
    "if(n>1):\n",
    "    for i in range(2,num):\n",
    "        if(n0):\n",
    "            print(n,\"is a prime number\")\n",
    "            break\n",
    "        else:\n",
    "        print(n,\" is a prime number\")\n",
    "else:\n",
    "    print(n,\"is not a prime\")"
   ]
  },
  {
   "cell_type": "code",
   "execution_count": null,
   "id": "3d8ce753",
   "metadata": {},
   "outputs": [],
   "source": []
  },
  {
   "cell_type": "code",
   "execution_count": null,
   "id": "0897b9d4",
   "metadata": {},
   "outputs": [],
   "source": []
  }
 ],
 "metadata": {
  "kernelspec": {
   "display_name": "Python 3 (ipykernel)",
   "language": "python",
   "name": "python3"
  },
  "language_info": {
   "codemirror_mode": {
    "name": "ipython",
    "version": 3
   },
   "file_extension": ".py",
   "mimetype": "text/x-python",
   "name": "python",
   "nbconvert_exporter": "python",
   "pygments_lexer": "ipython3",
   "version": "3.7.11"
  }
 },
 "nbformat": 4,
 "nbformat_minor": 5
}
