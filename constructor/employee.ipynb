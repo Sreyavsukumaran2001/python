{
 "cells": [
  {
   "cell_type": "code",
   "execution_count": 67,
   "id": "888ee6f0",
   "metadata": {},
   "outputs": [
    {
     "name": "stdout",
     "output_type": "stream",
     "text": [
      "Enter the name: ram\n",
      "enter the id: 101\n",
      "enter the age: 25\n",
      "Enter the name: jack\n",
      "enter the id: 102\n",
      "enter the age: 24\n"
     ]
    }
   ],
   "source": [
    "class employee:\n",
    "    def __init__(self,emp_name,emp_id,emp_age):\n",
    "        self.name=emp_name\n",
    "        self.id=emp_id\n",
    "        self.age=emp_age\n",
    "    def display(self):\n",
    "        print(\"Enter the name:\",self.name)\n",
    "        print(\"enter the id:\",self.id)\n",
    "        print(\"enter the age:\",self.age)\n",
    "emp1=employee(\"ram\",101,25)\n",
    "emp2=employee(\"jack\",102,24)\n",
    "emp1.display()\n",
    "emp2.display()\n"
   ]
  },
  {
   "cell_type": "code",
   "execution_count": 79,
   "id": "3468a5b2",
   "metadata": {},
   "outputs": [
    {
     "name": "stdout",
     "output_type": "stream",
     "text": [
      "enter the name:vy\n",
      "enter the id:12\n",
      "enter the age:22\n",
      "enter the name:sh\n",
      "enter the id:123\n",
      "enter the age:23\n",
      "enter the name:na\n",
      "enter the id:124\n",
      "enter the age:24\n",
      "\n",
      " employee name: vy\n",
      " employee the id: 12\n",
      " employee the age: 22\n",
      "\n",
      " employee name: sh\n",
      " employee the id: 123\n",
      " employee the age: 23\n",
      "\n",
      " employee name: na\n",
      " employee the id: 124\n",
      " employee the age: 24\n"
     ]
    }
   ],
   "source": [
    "class employee:\n",
    "    def __init__(self):\n",
    "        self.name=input(\"enter the name:\")\n",
    "        self.id=int(input(\"enter the id:\"))\n",
    "        self.age=int(input(\"enter the age:\"))\n",
    "    def display(self):\n",
    "        print(\"\\n employee name:\",self.name)\n",
    "        print(\" employee the id:\",self.id)\n",
    "        print(\" employee the age:\",self.age)\n",
    "emp1=employee()\n",
    "emp2=employee()\n",
    "emp3=employee()\n",
    "emp1.display()\n",
    "emp2.display()\n",
    "emp3.display()"
   ]
  },
  {
   "cell_type": "code",
   "execution_count": null,
   "id": "fcefad07",
   "metadata": {},
   "outputs": [],
   "source": []
  }
 ],
 "metadata": {
  "kernelspec": {
   "display_name": "Python 3 (ipykernel)",
   "language": "python",
   "name": "python3"
  },
  "language_info": {
   "codemirror_mode": {
    "name": "ipython",
    "version": 3
   },
   "file_extension": ".py",
   "mimetype": "text/x-python",
   "name": "python",
   "nbconvert_exporter": "python",
   "pygments_lexer": "ipython3",
   "version": "3.7.11"
  }
 },
 "nbformat": 4,
 "nbformat_minor": 5
}
