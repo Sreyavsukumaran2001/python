{
 "cells": [
  {
   "cell_type": "code",
   "execution_count": 1,
   "id": "3f6d4faf",
   "metadata": {},
   "outputs": [
    {
     "ename": "TypeError",
     "evalue": "__init__() takes 4 positional arguments but 6 were given",
     "output_type": "error",
     "traceback": [
      "\u001b[0;31m---------------------------------------------------------------------------\u001b[0m",
      "\u001b[0;31mTypeError\u001b[0m                                 Traceback (most recent call last)",
      "\u001b[0;32m/tmp/ipykernel_14525/2166424633.py\u001b[0m in \u001b[0;36m<module>\u001b[0;34m\u001b[0m\n\u001b[1;32m     13\u001b[0m         \u001b[0mself\u001b[0m\u001b[0;34m.\u001b[0m\u001b[0mpost\u001b[0m\u001b[0;34m=\u001b[0m\u001b[0mpost\u001b[0m\u001b[0;34m\u001b[0m\u001b[0;34m\u001b[0m\u001b[0m\n\u001b[1;32m     14\u001b[0m         \u001b[0mperson\u001b[0m\u001b[0;34m.\u001b[0m\u001b[0m__init__\u001b[0m\u001b[0;34m(\u001b[0m\u001b[0mself\u001b[0m\u001b[0;34m,\u001b[0m\u001b[0mname\u001b[0m\u001b[0;34m,\u001b[0m\u001b[0mage\u001b[0m\u001b[0;34m,\u001b[0m\u001b[0mi_d\u001b[0m\u001b[0;34m)\u001b[0m\u001b[0;34m\u001b[0m\u001b[0;34m\u001b[0m\u001b[0m\n\u001b[0;32m---> 15\u001b[0;31m \u001b[0ma\u001b[0m\u001b[0;34m=\u001b[0m\u001b[0memployee\u001b[0m\u001b[0;34m(\u001b[0m\u001b[0;34m\"ram\"\u001b[0m\u001b[0;34m,\u001b[0m\u001b[0;36m24\u001b[0m\u001b[0;34m,\u001b[0m\u001b[0;36m101\u001b[0m\u001b[0;34m,\u001b[0m\u001b[0;36m75000\u001b[0m\u001b[0;34m,\u001b[0m\u001b[0;34m\"developer\"\u001b[0m\u001b[0;34m)\u001b[0m\u001b[0;34m\u001b[0m\u001b[0;34m\u001b[0m\u001b[0m\n\u001b[0m\u001b[1;32m     16\u001b[0m \u001b[0ma\u001b[0m\u001b[0;34m.\u001b[0m\u001b[0mdisplay\u001b[0m\u001b[0;34m(\u001b[0m\u001b[0;34m)\u001b[0m\u001b[0;34m\u001b[0m\u001b[0;34m\u001b[0m\u001b[0m\n\u001b[1;32m     17\u001b[0m \u001b[0;34m\u001b[0m\u001b[0m\n",
      "\u001b[0;31mTypeError\u001b[0m: __init__() takes 4 positional arguments but 6 were given"
     ]
    }
   ],
   "source": [
    "class person:\n",
    "    def __init__(self,name,age,i_d):\n",
    "        self.name=name\n",
    "        self.age=age\n",
    "        self.i_d=i_d\n",
    "    def display(self):\n",
    "        print(self.name)\n",
    "        print(self.age)\n",
    "        print(self.i_d)\n",
    "class employee(person):\n",
    "    def __intit__(self,name,age,i_d,salary,post):\n",
    "        self.salary=salary\n",
    "        self.post=post\n",
    "        person.__init__(self,name,age,i_d)\n",
    "a=employee(\"ram\",24,101,75000,\"developer\")\n",
    "a.display()\n",
    "        \n",
    "      \n",
    "    \n",
    "        "
   ]
  },
  {
   "cell_type": "code",
   "execution_count": 12,
   "id": "05141f18",
   "metadata": {},
   "outputs": [
    {
     "name": "stdout",
     "output_type": "stream",
     "text": [
      ".......... ENTER THE PERSONAL DETAILS........\n",
      "\n",
      "enter name:sreya\n",
      "enter age:23\n",
      "enter the id:253\n",
      "enter salary:2174\n",
      "enter post:fsdj\n",
      "................................\n",
      "\n",
      "name= sreya\n",
      "age= 23\n",
      "idno= 253\n",
      "salary: 2174\n",
      " post: fsdj\n"
     ]
    }
   ],
   "source": [
    "class person:\n",
    "    def __init__(self,name,age,idno):\n",
    "        self.name=name\n",
    "        self.age=age\n",
    "        self.idno=idno\n",
    "    def display(self):\n",
    "        print(\"name=\",self.name)\n",
    "        print(\"age=\",self.age)\n",
    "        print(\"idno=\",self.idno)\n",
    "class employee(person):\n",
    "    def __init__(self,name,age,idno,salary,post):\n",
    "        self.salary=salary\n",
    "        self.post=post\n",
    "        person.__init__(self,name,age,idno)\n",
    "    def display1(self):\n",
    "        print(\"salary:\",self.salary)\n",
    "        print(\" post:\",self.post)\n",
    "print(\".......... ENTER THE PERSONAL DETAILS........\\n\")\n",
    "name=input(\"enter name:\")\n",
    "age=int(input(\"enter age:\"))\n",
    "idno=int(input(\"enter the id:\"))\n",
    "salary=int(input(\"enter salary:\"))\n",
    "post=input(\"enter post:\")\n",
    "print(\"................................\\n\")\n",
    "a=employee(name,age,idno,salary,post)\n",
    "a.display()\n",
    "a.display1()\n",
    "\n",
    "     "
   ]
  },
  {
   "cell_type": "code",
   "execution_count": null,
   "id": "90fe7253",
   "metadata": {},
   "outputs": [],
   "source": []
  },
  {
   "cell_type": "code",
   "execution_count": null,
   "id": "e433299b",
   "metadata": {},
   "outputs": [],
   "source": []
  },
  {
   "cell_type": "code",
   "execution_count": null,
   "id": "28c9570b",
   "metadata": {},
   "outputs": [],
   "source": []
  }
 ],
 "metadata": {
  "kernelspec": {
   "display_name": "Python 3 (ipykernel)",
   "language": "python",
   "name": "python3"
  },
  "language_info": {
   "codemirror_mode": {
    "name": "ipython",
    "version": 3
   },
   "file_extension": ".py",
   "mimetype": "text/x-python",
   "name": "python",
   "nbconvert_exporter": "python",
   "pygments_lexer": "ipython3",
   "version": "3.7.11"
  }
 },
 "nbformat": 4,
 "nbformat_minor": 5
}
